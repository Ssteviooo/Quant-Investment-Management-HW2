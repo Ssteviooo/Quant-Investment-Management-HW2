{
 "cells": [
  {
   "cell_type": "markdown",
   "metadata": {},
   "source": [
    "# <span style=\"color:blue\">Homework 2</span>\n",
    "## Finance 372 - Prof Travis Johnson"
   ]
  },
  {
   "cell_type": "markdown",
   "metadata": {},
   "source": [
    "### Due 11:59pm on Friday 2/17/23"
   ]
  },
  {
   "cell_type": "markdown",
   "metadata": {},
   "source": [
    "**Videos**: Programming skills you'll need for this assignment are covered in videos 9 and 10 on the YouTube channel https://www.youtube.com/channel/UCm8Lrbs8DkIZ8OHa0VpK2hQ"
   ]
  },
  {
   "cell_type": "markdown",
   "metadata": {},
   "source": [
    "**Rules**: you must complete this assignment on your own but are allowed to consult lecture notes, the class YouTube channel, other internet resources, and other students via the Discord Channel. If you are using code copies from a website, cite that website. You are still responsible for the quality of the code submitted - it's *your* fault if you copy an unreliable resource"
   ]
  },
  {
   "cell_type": "markdown",
   "metadata": {},
   "source": [
    "**Deliverables**: submit an .html copy (File -> Export Notebook As -> Export Notebook to HTML) and your .ipynb file via Canvas upload. The HTML file must be readable and include all the output you want us to grade. We will **not** run your code for you, and you will **not** receive credit for solutions that are in code format but do not have readable output in the HTML file."
   ]
  },
  {
   "cell_type": "markdown",
   "metadata": {},
   "source": [
    "## Solution by: <span style=\"color:orange\">Siyuan Yang Sy9734</span>"
   ]
  },
  {
   "cell_type": "markdown",
   "metadata": {},
   "source": [
    "This Homework will be focused on updating and expanding the following `positions_df`, which is a snapshot of all positions currently in the portfolio, lumping them together by identifier. So if you bought 100 shares ABC on 11/1 and another 150 shares on 12/1, and have made no other trades, current_portfolio will have a row with `security_id = ABC`, `position = 250`.\n",
    "       \n",
    "positions_df is meant to match what you observe on your brokerage account screen. In backtests, we keep track of this ourselves. In live trading, this would be pulled from the brokerage."
   ]
  },
  {
   "cell_type": "markdown",
   "metadata": {},
   "source": [
    "To get started, we'll need to create `positions_df` from scratch instead of importing it from a file. Syntax for creating a DataFrame from scratch (instead of reading from a file):\n",
    "```python\n",
    "df = pd.DataFrame({'column1_name': [row1col1, row2col1, ...],\n",
    "                   'column2_name': [row1col2, row2col2, ...],\n",
    "                       ...\n",
    "                   'columnM_name': [row1colM, row2colM, ...],\n",
    "                 })\n",
    "```\n",
    "\n",
    "If we want to create empty columns with specified dtypes, we can replace `[row1col1, row2col1, ...]` with `pd.Series([], dtype='type')` (https://stackoverflow.com/questions/36462257/create-empty-dataframe-in-pandas-specifying-column-types)\n",
    "\n",
    "For more info, see https://www.geeksforgeeks.org/different-ways-to-create-pandas-dataframe/"
   ]
  },
  {
   "cell_type": "code",
   "execution_count": 1,
   "metadata": {},
   "outputs": [
    {
     "name": "stderr",
     "output_type": "stream",
     "text": [
      "/var/folders/tg/ntk053s545b13rybq511zbjh0000gn/T/ipykernel_2736/3685972765.py:29: FutureWarning: The frame.append method is deprecated and will be removed from pandas in a future version. Use pandas.concat instead.\n",
      "  positions_df = positions_df.append(cash_df)\n"
     ]
    },
    {
     "data": {
      "text/html": [
       "<div>\n",
       "<style scoped>\n",
       "    .dataframe tbody tr th:only-of-type {\n",
       "        vertical-align: middle;\n",
       "    }\n",
       "\n",
       "    .dataframe tbody tr th {\n",
       "        vertical-align: top;\n",
       "    }\n",
       "\n",
       "    .dataframe thead th {\n",
       "        text-align: right;\n",
       "    }\n",
       "</style>\n",
       "<table border=\"1\" class=\"dataframe\">\n",
       "  <thead>\n",
       "    <tr style=\"text-align: right;\">\n",
       "      <th></th>\n",
       "      <th>security_id</th>\n",
       "      <th>quantity</th>\n",
       "      <th>average_cost</th>\n",
       "      <th>current_price</th>\n",
       "      <th>market_value</th>\n",
       "      <th>init_margin</th>\n",
       "      <th>maint_margin</th>\n",
       "    </tr>\n",
       "  </thead>\n",
       "  <tbody>\n",
       "    <tr>\n",
       "      <th>0</th>\n",
       "      <td>cash</td>\n",
       "      <td>0.0</td>\n",
       "      <td>1.0</td>\n",
       "      <td>1.0</td>\n",
       "      <td>NaN</td>\n",
       "      <td>NaN</td>\n",
       "      <td>NaN</td>\n",
       "    </tr>\n",
       "  </tbody>\n",
       "</table>\n",
       "</div>"
      ],
      "text/plain": [
       "  security_id  quantity  average_cost  current_price  market_value  \\\n",
       "0        cash       0.0           1.0            1.0           NaN   \n",
       "\n",
       "   init_margin  maint_margin  \n",
       "0          NaN           NaN  "
      ]
     },
     "execution_count": 1,
     "metadata": {},
     "output_type": "execute_result"
    }
   ],
   "source": [
    "import pandas as pd\n",
    "import numpy as np\n",
    "\n",
    "# Positions DataFrame, with one row per security_id. Contains a snapshot of all positions currently in the portfolio\n",
    "\n",
    "# First, Create an empty DataFrame with column names but specified dtypes.\n",
    "# This way when we append new rows we can be sure the dtype stays consistent & all these columns remain\n",
    "# The columns are:\n",
    "# security_id: security identifier such as ticker or permno or optionid whatever unique identifier for the position\n",
    "# quantity: number of units in portfolio, can be positive or negative. Never 0 (zero positions removed from this DataFrame unless its cash)\n",
    "# average_cost: average cost of units in portfolio\n",
    "# current_price: current price of security\n",
    "# market_value: current market value of position\n",
    "# init_margin: initial margin requirement of position\n",
    "# main_margin: maintenance margin requirement of position\n",
    "positions_df = pd.DataFrame({'security_id': pd.Series([], dtype='object'), \n",
    "                             'quantity': pd.Series([], dtype='float'), \n",
    "                             'average_cost': pd.Series([], dtype='float'), \n",
    "                             'current_price': pd.Series([], dtype='float'), \n",
    "                             'market_value': pd.Series([], dtype='float'), \n",
    "                             'init_margin': pd.Series([], dtype='float'),\n",
    "                             'maint_margin': pd.Series([], dtype='float'), \n",
    "                            })\n",
    "\n",
    "# Cash row for the dataframe. Quantity starts at zero, current_price and average_cost always 1\n",
    "# Will set market_value and init_margin later\n",
    "cash_df = pd.DataFrame({'security_id': ['cash'], 'quantity': [0], 'average_cost': [1], 'current_price': [1]})\n",
    "\n",
    "positions_df = positions_df.append(cash_df)\n",
    "positions_df"
   ]
  },
  {
   "cell_type": "markdown",
   "metadata": {},
   "source": [
    "## <span style=\"color:blue\">Task 1</span>: Create an `add_cash` function, and test it by adding $1000 cash and displaying the updated dataframe"
   ]
  },
  {
   "cell_type": "code",
   "execution_count": 2,
   "metadata": {},
   "outputs": [],
   "source": [
    "# Solution to Task 1\n",
    "\n",
    "# Function add_cash accepts as input:\n",
    "# 1) df: a dataframe with security_id and quantity columns\n",
    "# 2) cash_to_add: a cash amount that can be positive or negative\n",
    "# and adds this amount to the 'quantity' column of any row with 'security_id'='cash' in df\n",
    "# it doesn't return anything\n",
    "def add_cash(df, cash_to_add):\n",
    "    cash_row = df[df.loc[:,'security_id'] == 'cash']\n",
    "    cash_row.loc[:,'quantity'] += cash_to_add\n",
    "    df.update(cash_row)\n",
    "\n",
    "    \n",
    "\n"
   ]
  },
  {
   "cell_type": "markdown",
   "metadata": {},
   "source": [
    "##### Run this cell **without** editing it, the output should show positions_df with cash quantity = 1000"
   ]
  },
  {
   "cell_type": "code",
   "execution_count": 3,
   "metadata": {},
   "outputs": [
    {
     "data": {
      "text/html": [
       "<div>\n",
       "<style scoped>\n",
       "    .dataframe tbody tr th:only-of-type {\n",
       "        vertical-align: middle;\n",
       "    }\n",
       "\n",
       "    .dataframe tbody tr th {\n",
       "        vertical-align: top;\n",
       "    }\n",
       "\n",
       "    .dataframe thead th {\n",
       "        text-align: right;\n",
       "    }\n",
       "</style>\n",
       "<table border=\"1\" class=\"dataframe\">\n",
       "  <thead>\n",
       "    <tr style=\"text-align: right;\">\n",
       "      <th></th>\n",
       "      <th>security_id</th>\n",
       "      <th>quantity</th>\n",
       "      <th>average_cost</th>\n",
       "      <th>current_price</th>\n",
       "      <th>market_value</th>\n",
       "      <th>init_margin</th>\n",
       "      <th>maint_margin</th>\n",
       "    </tr>\n",
       "  </thead>\n",
       "  <tbody>\n",
       "    <tr>\n",
       "      <th>0</th>\n",
       "      <td>cash</td>\n",
       "      <td>1000.0</td>\n",
       "      <td>1.0</td>\n",
       "      <td>1.0</td>\n",
       "      <td>NaN</td>\n",
       "      <td>NaN</td>\n",
       "      <td>NaN</td>\n",
       "    </tr>\n",
       "  </tbody>\n",
       "</table>\n",
       "</div>"
      ],
      "text/plain": [
       "  security_id  quantity  average_cost  current_price  market_value  \\\n",
       "0        cash    1000.0           1.0            1.0           NaN   \n",
       "\n",
       "   init_margin  maint_margin  \n",
       "0          NaN           NaN  "
      ]
     },
     "execution_count": 3,
     "metadata": {},
     "output_type": "execute_result"
    }
   ],
   "source": [
    "add_cash(df=positions_df, cash_to_add=+1000)\n",
    "positions_df"
   ]
  },
  {
   "cell_type": "markdown",
   "metadata": {},
   "source": [
    "## <span style=\"color:blue\">Task 2</span>: Load the transactions in `transactions1.csv` and adjust the quantity column to be negative for sells and positive for buys"
   ]
  },
  {
   "cell_type": "code",
   "execution_count": 4,
   "metadata": {},
   "outputs": [],
   "source": [
    "# Solution to Task 2\n",
    "import pandas as pd\n",
    "transactions_df = pd.read_csv('transactions1.csv')\n",
    "transactions_df.loc[transactions_df['direction'] == 'sell', 'quantity'] *= -1\n"
   ]
  },
  {
   "cell_type": "markdown",
   "metadata": {},
   "source": [
    "##### Run this cell **without** editing it, the output should show a DataFrame with negative quantities for sells and positive for buys"
   ]
  },
  {
   "cell_type": "code",
   "execution_count": 5,
   "metadata": {},
   "outputs": [
    {
     "data": {
      "text/html": [
       "<div>\n",
       "<style scoped>\n",
       "    .dataframe tbody tr th:only-of-type {\n",
       "        vertical-align: middle;\n",
       "    }\n",
       "\n",
       "    .dataframe tbody tr th {\n",
       "        vertical-align: top;\n",
       "    }\n",
       "\n",
       "    .dataframe thead th {\n",
       "        text-align: right;\n",
       "    }\n",
       "</style>\n",
       "<table border=\"1\" class=\"dataframe\">\n",
       "  <thead>\n",
       "    <tr style=\"text-align: right;\">\n",
       "      <th></th>\n",
       "      <th>security_id</th>\n",
       "      <th>direction</th>\n",
       "      <th>quantity</th>\n",
       "      <th>average_price</th>\n",
       "    </tr>\n",
       "  </thead>\n",
       "  <tbody>\n",
       "    <tr>\n",
       "      <th>0</th>\n",
       "      <td>12345</td>\n",
       "      <td>buy</td>\n",
       "      <td>100</td>\n",
       "      <td>25.18</td>\n",
       "    </tr>\n",
       "    <tr>\n",
       "      <th>1</th>\n",
       "      <td>TWTR</td>\n",
       "      <td>sell</td>\n",
       "      <td>-200</td>\n",
       "      <td>64.18</td>\n",
       "    </tr>\n",
       "    <tr>\n",
       "      <th>2</th>\n",
       "      <td>KO</td>\n",
       "      <td>buy</td>\n",
       "      <td>50</td>\n",
       "      <td>48.80</td>\n",
       "    </tr>\n",
       "  </tbody>\n",
       "</table>\n",
       "</div>"
      ],
      "text/plain": [
       "  security_id direction  quantity  average_price\n",
       "0       12345       buy       100          25.18\n",
       "1        TWTR      sell      -200          64.18\n",
       "2          KO       buy        50          48.80"
      ]
     },
     "execution_count": 5,
     "metadata": {},
     "output_type": "execute_result"
    }
   ],
   "source": [
    "transactions_df"
   ]
  },
  {
   "cell_type": "markdown",
   "metadata": {},
   "source": [
    "## <span style=\"color:blue\">Task 3</span>: Rename the average_price column in `transactions_df` to average_cost so it matches the column in `positions_df`, remove the direction column"
   ]
  },
  {
   "cell_type": "code",
   "execution_count": 6,
   "metadata": {},
   "outputs": [],
   "source": [
    "# Solution to Task 3\n",
    "\n",
    "transactions_df = transactions_df.rename(columns={'average_price': 'average_cost'})\n",
    "transactions_df = transactions_df.drop(columns=['direction'])"
   ]
  },
  {
   "cell_type": "markdown",
   "metadata": {},
   "source": [
    "##### Run this cell **without** editing it, the output should show columns for security_id, average_cost, and quantity (but not direction)"
   ]
  },
  {
   "cell_type": "code",
   "execution_count": 7,
   "metadata": {},
   "outputs": [
    {
     "data": {
      "text/html": [
       "<div>\n",
       "<style scoped>\n",
       "    .dataframe tbody tr th:only-of-type {\n",
       "        vertical-align: middle;\n",
       "    }\n",
       "\n",
       "    .dataframe tbody tr th {\n",
       "        vertical-align: top;\n",
       "    }\n",
       "\n",
       "    .dataframe thead th {\n",
       "        text-align: right;\n",
       "    }\n",
       "</style>\n",
       "<table border=\"1\" class=\"dataframe\">\n",
       "  <thead>\n",
       "    <tr style=\"text-align: right;\">\n",
       "      <th></th>\n",
       "      <th>security_id</th>\n",
       "      <th>quantity</th>\n",
       "      <th>average_cost</th>\n",
       "    </tr>\n",
       "  </thead>\n",
       "  <tbody>\n",
       "    <tr>\n",
       "      <th>0</th>\n",
       "      <td>12345</td>\n",
       "      <td>100</td>\n",
       "      <td>25.18</td>\n",
       "    </tr>\n",
       "    <tr>\n",
       "      <th>1</th>\n",
       "      <td>TWTR</td>\n",
       "      <td>-200</td>\n",
       "      <td>64.18</td>\n",
       "    </tr>\n",
       "    <tr>\n",
       "      <th>2</th>\n",
       "      <td>KO</td>\n",
       "      <td>50</td>\n",
       "      <td>48.80</td>\n",
       "    </tr>\n",
       "  </tbody>\n",
       "</table>\n",
       "</div>"
      ],
      "text/plain": [
       "  security_id  quantity  average_cost\n",
       "0       12345       100         25.18\n",
       "1        TWTR      -200         64.18\n",
       "2          KO        50         48.80"
      ]
     },
     "execution_count": 7,
     "metadata": {},
     "output_type": "execute_result"
    }
   ],
   "source": [
    "transactions_df"
   ]
  },
  {
   "cell_type": "markdown",
   "metadata": {},
   "source": [
    "## <span style=\"color:blue\">Task 4</span>: Append the transactions DataFrame to `positions_df`, and use the `add_cash` function to adjust the cash balance to reflect these transactions"
   ]
  },
  {
   "cell_type": "markdown",
   "metadata": {},
   "source": [
    "Remember, cash balance goes up when you sell and down when you buy"
   ]
  },
  {
   "cell_type": "code",
   "execution_count": 9,
   "metadata": {},
   "outputs": [
    {
     "data": {
      "text/html": [
       "<div>\n",
       "<style scoped>\n",
       "    .dataframe tbody tr th:only-of-type {\n",
       "        vertical-align: middle;\n",
       "    }\n",
       "\n",
       "    .dataframe tbody tr th {\n",
       "        vertical-align: top;\n",
       "    }\n",
       "\n",
       "    .dataframe thead th {\n",
       "        text-align: right;\n",
       "    }\n",
       "</style>\n",
       "<table border=\"1\" class=\"dataframe\">\n",
       "  <thead>\n",
       "    <tr style=\"text-align: right;\">\n",
       "      <th></th>\n",
       "      <th>security_id</th>\n",
       "      <th>quantity</th>\n",
       "      <th>average_cost</th>\n",
       "      <th>current_price</th>\n",
       "      <th>market_value</th>\n",
       "      <th>init_margin</th>\n",
       "      <th>maint_margin</th>\n",
       "    </tr>\n",
       "  </thead>\n",
       "  <tbody>\n",
       "    <tr>\n",
       "      <th>0</th>\n",
       "      <td>cash</td>\n",
       "      <td>950.0</td>\n",
       "      <td>1.00</td>\n",
       "      <td>1.0</td>\n",
       "      <td>NaN</td>\n",
       "      <td>NaN</td>\n",
       "      <td>NaN</td>\n",
       "    </tr>\n",
       "    <tr>\n",
       "      <th>0</th>\n",
       "      <td>cash</td>\n",
       "      <td>950.0</td>\n",
       "      <td>1.00</td>\n",
       "      <td>1.0</td>\n",
       "      <td>NaN</td>\n",
       "      <td>NaN</td>\n",
       "      <td>NaN</td>\n",
       "    </tr>\n",
       "    <tr>\n",
       "      <th>1</th>\n",
       "      <td>TWTR</td>\n",
       "      <td>-200.0</td>\n",
       "      <td>64.18</td>\n",
       "      <td>NaN</td>\n",
       "      <td>NaN</td>\n",
       "      <td>NaN</td>\n",
       "      <td>NaN</td>\n",
       "    </tr>\n",
       "    <tr>\n",
       "      <th>2</th>\n",
       "      <td>KO</td>\n",
       "      <td>50.0</td>\n",
       "      <td>48.80</td>\n",
       "      <td>NaN</td>\n",
       "      <td>NaN</td>\n",
       "      <td>NaN</td>\n",
       "      <td>NaN</td>\n",
       "    </tr>\n",
       "    <tr>\n",
       "      <th>0</th>\n",
       "      <td>12345</td>\n",
       "      <td>100.0</td>\n",
       "      <td>25.18</td>\n",
       "      <td>NaN</td>\n",
       "      <td>NaN</td>\n",
       "      <td>NaN</td>\n",
       "      <td>NaN</td>\n",
       "    </tr>\n",
       "    <tr>\n",
       "      <th>1</th>\n",
       "      <td>TWTR</td>\n",
       "      <td>-200.0</td>\n",
       "      <td>64.18</td>\n",
       "      <td>NaN</td>\n",
       "      <td>NaN</td>\n",
       "      <td>NaN</td>\n",
       "      <td>NaN</td>\n",
       "    </tr>\n",
       "    <tr>\n",
       "      <th>2</th>\n",
       "      <td>KO</td>\n",
       "      <td>50.0</td>\n",
       "      <td>48.80</td>\n",
       "      <td>NaN</td>\n",
       "      <td>NaN</td>\n",
       "      <td>NaN</td>\n",
       "      <td>NaN</td>\n",
       "    </tr>\n",
       "  </tbody>\n",
       "</table>\n",
       "</div>"
      ],
      "text/plain": [
       "  security_id  quantity  average_cost  current_price  market_value  \\\n",
       "0        cash     950.0          1.00            1.0           NaN   \n",
       "0        cash     950.0          1.00            1.0           NaN   \n",
       "1        TWTR    -200.0         64.18            NaN           NaN   \n",
       "2          KO      50.0         48.80            NaN           NaN   \n",
       "0       12345     100.0         25.18            NaN           NaN   \n",
       "1        TWTR    -200.0         64.18            NaN           NaN   \n",
       "2          KO      50.0         48.80            NaN           NaN   \n",
       "\n",
       "   init_margin  maint_margin  \n",
       "0          NaN           NaN  \n",
       "0          NaN           NaN  \n",
       "1          NaN           NaN  \n",
       "2          NaN           NaN  \n",
       "0          NaN           NaN  \n",
       "1          NaN           NaN  \n",
       "2          NaN           NaN  "
      ]
     },
     "execution_count": 9,
     "metadata": {},
     "output_type": "execute_result"
    }
   ],
   "source": [
    "# Solution to Task 4\n",
    "\n",
    "positions_df = pd.concat([positions_df, transactions_df])\n",
    "positions_df\n",
    "\n",
    "# trans_quantity = transactions_df.loc[:,'quantity']\n",
    "# add_cash(df=positions_df, cash_to_add= trans_quantity.sum())"
   ]
  },
  {
   "cell_type": "markdown",
   "metadata": {},
   "source": [
    "##### Run this cell **without** editing it, the output should show rows for each of the new securities, and an updated cash balance"
   ]
  },
  {
   "cell_type": "code",
   "execution_count": 8,
   "metadata": {},
   "outputs": [
    {
     "data": {
      "text/html": [
       "<div>\n",
       "<style scoped>\n",
       "    .dataframe tbody tr th:only-of-type {\n",
       "        vertical-align: middle;\n",
       "    }\n",
       "\n",
       "    .dataframe tbody tr th {\n",
       "        vertical-align: top;\n",
       "    }\n",
       "\n",
       "    .dataframe thead th {\n",
       "        text-align: right;\n",
       "    }\n",
       "</style>\n",
       "<table border=\"1\" class=\"dataframe\">\n",
       "  <thead>\n",
       "    <tr style=\"text-align: right;\">\n",
       "      <th></th>\n",
       "      <th>security_id</th>\n",
       "      <th>quantity</th>\n",
       "      <th>average_cost</th>\n",
       "      <th>current_price</th>\n",
       "      <th>market_value</th>\n",
       "      <th>init_margin</th>\n",
       "      <th>maint_margin</th>\n",
       "    </tr>\n",
       "  </thead>\n",
       "  <tbody>\n",
       "    <tr>\n",
       "      <th>0</th>\n",
       "      <td>cash</td>\n",
       "      <td>950.0</td>\n",
       "      <td>1.00</td>\n",
       "      <td>1.0</td>\n",
       "      <td>NaN</td>\n",
       "      <td>NaN</td>\n",
       "      <td>NaN</td>\n",
       "    </tr>\n",
       "    <tr>\n",
       "      <th>0</th>\n",
       "      <td>cash</td>\n",
       "      <td>950.0</td>\n",
       "      <td>1.00</td>\n",
       "      <td>1.0</td>\n",
       "      <td>NaN</td>\n",
       "      <td>NaN</td>\n",
       "      <td>NaN</td>\n",
       "    </tr>\n",
       "    <tr>\n",
       "      <th>1</th>\n",
       "      <td>TWTR</td>\n",
       "      <td>-200.0</td>\n",
       "      <td>64.18</td>\n",
       "      <td>NaN</td>\n",
       "      <td>NaN</td>\n",
       "      <td>NaN</td>\n",
       "      <td>NaN</td>\n",
       "    </tr>\n",
       "    <tr>\n",
       "      <th>2</th>\n",
       "      <td>KO</td>\n",
       "      <td>50.0</td>\n",
       "      <td>48.80</td>\n",
       "      <td>NaN</td>\n",
       "      <td>NaN</td>\n",
       "      <td>NaN</td>\n",
       "      <td>NaN</td>\n",
       "    </tr>\n",
       "  </tbody>\n",
       "</table>\n",
       "</div>"
      ],
      "text/plain": [
       "  security_id  quantity  average_cost  current_price  market_value  \\\n",
       "0        cash     950.0          1.00            1.0           NaN   \n",
       "0        cash     950.0          1.00            1.0           NaN   \n",
       "1        TWTR    -200.0         64.18            NaN           NaN   \n",
       "2          KO      50.0         48.80            NaN           NaN   \n",
       "\n",
       "   init_margin  maint_margin  \n",
       "0          NaN           NaN  \n",
       "0          NaN           NaN  \n",
       "1          NaN           NaN  \n",
       "2          NaN           NaN  "
      ]
     },
     "execution_count": 8,
     "metadata": {},
     "output_type": "execute_result"
    }
   ],
   "source": [
    "positions_df"
   ]
  },
  {
   "cell_type": "markdown",
   "metadata": {},
   "source": [
    "## <span style=\"color:blue\">Task 5</span>: Write a `process_transactions` function that modifies a transactions DataFrame and appends it to the positions DataFrame (as in Tasks 2-4)"
   ]
  },
  {
   "cell_type": "markdown",
   "metadata": {},
   "source": [
    "Be sure you:\n",
    "1. Make quantity negative for sells\n",
    "1. Rename the average_price column to average_cost\n",
    "1. Remove the direction column \n",
    "1. Adjust the cash position to reflect the new transactions\n",
    "1. Append the new transactions to positions_df and return the combined DataFrame"
   ]
  },
  {
   "cell_type": "code",
   "execution_count": null,
   "metadata": {},
   "outputs": [],
   "source": [
    "# Solution to Task 5\n",
    "\n",
    "# Function process_transactions takes as input:\n",
    "# 1) positions_df, a DataFrame with columns: 'security_id', 'quantity', and 'average_cost' (and potentially others)\n",
    "# 2) transactions_df, a DataFrame with columns: 'security_id', 'direction', 'quantity', and 'average_price'\n",
    "# It modifies transactions_df so it fits with the conventions of positions_df, adjusts the cash balance in positions_df, and appends to positions_df\n",
    "# It returns the modified positions_df\n",
    "def process_transactions(positions_df, transactions_df):\n",
    "    modified_positions_df = positions_df.copy()\n",
    "    \n",
    "    # YOUR CODE HERE\n",
    "    \n",
    "    return modified_positions_df"
   ]
  },
  {
   "cell_type": "markdown",
   "metadata": {},
   "source": [
    "##### Run this cell **without** editing it, the output should show a DataFrame with all five transactions and an updated cash balance"
   ]
  },
  {
   "cell_type": "code",
   "execution_count": null,
   "metadata": {},
   "outputs": [],
   "source": [
    "transactions2_df = pd.read_csv('transactions2.csv')\n",
    "\n",
    "positions_df = process_transactions(positions_df, transactions2_df)\n",
    "positions_df"
   ]
  },
  {
   "cell_type": "markdown",
   "metadata": {},
   "source": [
    "## <span style=\"color:blue\">Task 6</span>: Group and combine positions with the same security id to create a new `grouped_positions_df`\n",
    "1. Combine quantity as sum of quantity across all positions with the same security_id\n",
    "1. Combine average_cost as the average of average_cost across all positions with the same security_id\n",
    "\n",
    "So if we have two entries for `security_id='XYZ'`, one with `{'quantity':10, 'average_cost':50}` and the other `{'quantity':20, 'average_cost':60}`, we want to combine them into a single entry with `{'quantity':30, 'average_cost':55}`. It's ok if grouped_positions_df doesn't have the remaining columns (current_price, etc) \n",
    "\n",
    "To do this, you will need to use the following syntax:\n",
    "```python\n",
    "aggregators = { 'column1_name1': 'agg1_name', \n",
    "                'column2_name2': 'agg2_name', \n",
    "                'column3_name3': 'agg3_name', \n",
    "                ...\n",
    "              }  \n",
    "df.groupby('grouping_col').agg(aggregators)\n",
    "```\n",
    "\n",
    "and specify the aggregators 'first', 'mean', or 'sum' for each column you want to group and combine (quantity and average_cost in this case).\n",
    "\n",
    "Note that technically the combined average_cost should be a weighted average of the individual average_costs, but let's ignore this for now"
   ]
  },
  {
   "cell_type": "code",
   "execution_count": null,
   "metadata": {},
   "outputs": [],
   "source": [
    "# Solution to Task 6\n",
    "\n",
    "# YOUR CODE HERE"
   ]
  },
  {
   "cell_type": "markdown",
   "metadata": {},
   "source": [
    "##### Run this cell **without** editing it, the output should show a DataFrame with one row for each security_id with quantity and average_cost columns"
   ]
  },
  {
   "cell_type": "code",
   "execution_count": null,
   "metadata": {},
   "outputs": [],
   "source": [
    "grouped_positions_df"
   ]
  },
  {
   "cell_type": "markdown",
   "metadata": {},
   "source": [
    "## <span style=\"color:blue\">Task 7</span>: Merge current price and margin requirement data from `prices.csv` into `grouped_positions_df` to create a `position_prices_df`"
   ]
  },
  {
   "cell_type": "markdown",
   "metadata": {},
   "source": [
    "If you haven't already, you'll need to run `grouped_positions_df = grouped_positions_df.reset_index()` to make the merge work\n",
    "\n",
    "Make sure your merge keeps all rows originally in the grouped_positions_df even if there isn't a matching security_id in prices.csv"
   ]
  },
  {
   "cell_type": "code",
   "execution_count": null,
   "metadata": {},
   "outputs": [],
   "source": [
    "# Solution to Task 7\n",
    "prices_df = pd.read_csv('prices.csv')\n",
    "\n",
    "# YOUR CODE HERE"
   ]
  },
  {
   "cell_type": "markdown",
   "metadata": {},
   "source": [
    "##### Run this cell **without** editing it, the output should show a DataFrame with one row for each security_id with quantity, average_cost, price, init_margin_frac, and maint_margin_frac columns"
   ]
  },
  {
   "cell_type": "code",
   "execution_count": null,
   "metadata": {},
   "outputs": [],
   "source": [
    "position_prices_df"
   ]
  },
  {
   "cell_type": "markdown",
   "metadata": {},
   "source": [
    "## <span style=\"color:blue\">Task 8</span>: Compute a final `positions_df` by starting with `positions_prices_df` and:\n",
    "1. Removing rows with zero quantity\n",
    "1. Renaming price to current_price\n",
    "1. Setting cash's current_price to 1.00\n",
    "1. Adding and calculating the `market_value`, `init_margin`, and `maint_margin` columns. Note that `_margin_frac` represents the fraction of `market_value`, while `_margin` is the dollar margin requirement. \n",
    "1. Removing the extra columns so positions_df has the original columns as defined at the start of this notebook"
   ]
  },
  {
   "cell_type": "code",
   "execution_count": null,
   "metadata": {},
   "outputs": [],
   "source": [
    "# Solution to Task 8\n",
    "\n",
    "# YOUR CODE HERE"
   ]
  },
  {
   "cell_type": "markdown",
   "metadata": {},
   "source": [
    "##### Run this cell **without** editing it, the output should show a DataFrame with one row for each security_id and all the original positions_df columns with no NaN values"
   ]
  },
  {
   "cell_type": "code",
   "execution_count": null,
   "metadata": {},
   "outputs": [],
   "source": [
    "positions_df"
   ]
  }
 ],
 "metadata": {
  "kernelspec": {
   "display_name": "Python 3 (ipykernel)",
   "language": "python",
   "name": "python3"
  },
  "language_info": {
   "codemirror_mode": {
    "name": "ipython",
    "version": 3
   },
   "file_extension": ".py",
   "mimetype": "text/x-python",
   "name": "python",
   "nbconvert_exporter": "python",
   "pygments_lexer": "ipython3",
   "version": "3.9.13"
  },
  "vscode": {
   "interpreter": {
    "hash": "dbb310f2df504b8c19cca12a541b2d02888c42c07ba4f7ab39600e8c196c3fa0"
   }
  }
 },
 "nbformat": 4,
 "nbformat_minor": 4
}
